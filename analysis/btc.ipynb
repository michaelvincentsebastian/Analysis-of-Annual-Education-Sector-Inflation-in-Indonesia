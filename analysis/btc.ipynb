{
 "cells": [
  {
   "cell_type": "code",
   "execution_count": null,
   "id": "8f30faeb",
   "metadata": {},
   "outputs": [],
   "source": [
    "BTC = yF.Ticker(\"BTC-GBP\")\n",
    "print(\"Bitcoin Current : \", round(BTC.info['open'],0))\n",
    "print(\"        Day     : \", round(BTC.info['dayLow'], 0), \"-\", round(BTC.info['dayHigh'], 0))\n",
    "print(\"        52 Week : \", round(BTC.info['fiftyTwoWeekLow'], 0), \"-\", round(BTC.info['fiftyTwoWeekHigh'], 0))"
   ]
  },
  {
   "cell_type": "code",
   "execution_count": null,
   "id": "b0ce23a3",
   "metadata": {},
   "outputs": [],
   "source": []
  }
 ],
 "metadata": {
  "kernelspec": {
   "display_name": "base",
   "language": "python",
   "name": "python3"
  },
  "language_info": {
   "name": "python",
   "version": "3.13.5"
  }
 },
 "nbformat": 4,
 "nbformat_minor": 5
}
